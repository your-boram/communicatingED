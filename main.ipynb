{
 "cells": [
  {
   "cell_type": "code",
   "execution_count": null,
   "metadata": {},
   "outputs": [],
   "source": [
    "# get username by query\n",
    "\n",
    "from tweepy_client import TweepyClient\n",
    "\n",
    "tweepy_client = TweepyClient()\n",
    "result = tweepy_client.get_all_tweets(\n",
    "    \"thinspo\", \"2022-01-01T00:00:00Z\", \"2022-04-18T00:00:00Z\"\n",
    ")\n",
    "tweepy_client.save(result, \"users.csv\")\n"
   ]
  },
  {
   "cell_type": "code",
   "execution_count": null,
   "metadata": {},
   "outputs": [],
   "source": [
    "# get profile info (nums of follower, following, and tweets)\n",
    "import pandas as pd\n",
    "\n",
    "from tweepy_client import TweepyClient\n",
    "\n",
    "tweepy_client = TweepyClient()\n",
    "\n",
    "df = pd.read_csv(\"users.csv\")\n",
    "user_ids = df[\"id\"].astype(str).to_list()\n",
    "\n",
    "tweepy_client.get_user_profiles(user_ids)\n"
   ]
  },
  {
   "cell_type": "code",
   "execution_count": null,
   "metadata": {},
   "outputs": [],
   "source": [
    "# get timeline of users\n",
    "\n",
    "from tweepy_client import TweepyClient\n",
    "\n",
    "tweepy_client = TweepyClient()\n",
    "\n",
    "user_ids = [\"1367807187964194816\", \"1484410460690599936\"]\n",
    "\n",
    "result = []\n",
    "for id in user_ids:\n",
    "    result.extend(tweepy_client.get_timeline(id, max_results=5))\n",
    "tweepy_client.save(result, \"timeline.csv\")\n"
   ]
  }
 ],
 "metadata": {
  "interpreter": {
   "hash": "57ffbcbab7a545a59cd0c3b3c0fc4ed8076bf5857f7d1288fd91af7c91b004cc"
  },
  "kernelspec": {
   "display_name": "Python 3.8.2 ('boram-6_YsJpOq')",
   "language": "python",
   "name": "python3"
  },
  "language_info": {
   "codemirror_mode": {
    "name": "ipython",
    "version": 3
   },
   "file_extension": ".py",
   "mimetype": "text/x-python",
   "name": "python",
   "nbconvert_exporter": "python",
   "pygments_lexer": "ipython3",
   "version": "3.8.2"
  },
  "orig_nbformat": 4
 },
 "nbformat": 4,
 "nbformat_minor": 2
}
