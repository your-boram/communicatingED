{
 "cells": [
  {
   "cell_type": "code",
   "execution_count": null,
   "metadata": {},
   "outputs": [],
   "source": [
    "from tweepy_client import TweepyClient\n",
    "\n",
    "tweepy_client = TweepyClient()"
   ]
  },
  {
   "cell_type": "code",
   "execution_count": 2,
   "metadata": {},
   "outputs": [
    {
     "data": {
      "text/plain": [
       "1352003509139484673"
      ]
     },
     "execution_count": 2,
     "metadata": {},
     "output_type": "execute_result"
    }
   ],
   "source": [
    "id = tweepy_client.get_user_id_by_name(\"sumthineles\")\n",
    "id"
   ]
  },
  {
   "cell_type": "code",
   "execution_count": 3,
   "metadata": {},
   "outputs": [
    {
     "name": "stdout",
     "output_type": "stream",
     "text": [
      "[{'text': 'Credit: @/ geloyconcepcion on ig', 'id': 1515178432715497483, 'like_count': 0, 'retweet_count': 0}, {'text': 'https://t.co/yBvhYJq4lv', 'id': 1515178430559666180, 'like_count': 11, 'retweet_count': 2}, {'text': 'Credit:@/wheredidweallgowrong', 'id': 1515163171283161093, 'like_count': 0, 'retweet_count': 0}, {'text': 'https://t.co/almShHansO', 'id': 1515163169051889675, 'like_count': 27, 'retweet_count': 1}, {'text': 'Credit:@/posterjournal', 'id': 1515146464636198913, 'like_count': 0, 'retweet_count': 0}, {'text': 'Credit: @/ geloyconcepcion on ig', 'id': 1515178432715497483, 'like_count': 0, 'retweet_count': 0}, {'text': 'https://t.co/yBvhYJq4lv', 'id': 1515178430559666180, 'like_count': 11, 'retweet_count': 2}, {'text': 'Credit:@/wheredidweallgowrong', 'id': 1515163171283161093, 'like_count': 0, 'retweet_count': 0}, {'text': 'https://t.co/almShHansO', 'id': 1515163169051889675, 'like_count': 27, 'retweet_count': 1}, {'text': 'Credit:@/posterjournal', 'id': 1515146464636198913, 'like_count': 0, 'retweet_count': 0}, {'text': 'Credit: @/ geloyconcepcion on ig', 'id': 1515178432715497483, 'like_count': 0, 'retweet_count': 0}, {'text': 'https://t.co/yBvhYJq4lv', 'id': 1515178430559666180, 'like_count': 11, 'retweet_count': 2}, {'text': 'Credit:@/wheredidweallgowrong', 'id': 1515163171283161093, 'like_count': 0, 'retweet_count': 0}, {'text': 'https://t.co/almShHansO', 'id': 1515163169051889675, 'like_count': 27, 'retweet_count': 1}, {'text': 'Credit:@/posterjournal', 'id': 1515146464636198913, 'like_count': 0, 'retweet_count': 0}, {'text': 'Credit: @/ geloyconcepcion on ig', 'id': 1515178432715497483, 'like_count': 0, 'retweet_count': 0}, {'text': 'https://t.co/yBvhYJq4lv', 'id': 1515178430559666180, 'like_count': 11, 'retweet_count': 2}, {'text': 'Credit:@/wheredidweallgowrong', 'id': 1515163171283161093, 'like_count': 0, 'retweet_count': 0}, {'text': 'https://t.co/almShHansO', 'id': 1515163169051889675, 'like_count': 27, 'retweet_count': 1}, {'text': 'Credit:@/posterjournal', 'id': 1515146464636198913, 'like_count': 0, 'retweet_count': 0}, {'text': 'Credit: @/ geloyconcepcion on ig', 'id': 1515178432715497483, 'like_count': 0, 'retweet_count': 0}, {'text': 'https://t.co/yBvhYJq4lv', 'id': 1515178430559666180, 'like_count': 11, 'retweet_count': 2}, {'text': 'Credit:@/wheredidweallgowrong', 'id': 1515163171283161093, 'like_count': 0, 'retweet_count': 0}, {'text': 'https://t.co/almShHansO', 'id': 1515163169051889675, 'like_count': 27, 'retweet_count': 1}, {'text': 'Credit:@/posterjournal', 'id': 1515146464636198913, 'like_count': 0, 'retweet_count': 0}]\n"
     ]
    }
   ],
   "source": [
    "\n",
    "result = tweepy_client.get_timeline(id, max_results=5)\n",
    "print(result)"
   ]
  },
  {
   "cell_type": "code",
   "execution_count": null,
   "metadata": {},
   "outputs": [],
   "source": [
    "tweepy_client.save(result, \"timeline.csv\")"
   ]
  },
  {
   "cell_type": "markdown",
   "metadata": {},
   "source": [
    "만일 위 과정을 반복하려고 하신다면"
   ]
  },
  {
   "cell_type": "code",
   "execution_count": 1,
   "metadata": {},
   "outputs": [],
   "source": [
    "from tweepy_client import TweepyClient\n",
    "\n",
    "tweepy_client = TweepyClient()\n",
    "\n",
    "usernames = [\"sumthineles\", \"kcalteodeio\"]\n",
    "\n",
    "result = []\n",
    "for username in usernames:\n",
    "    id = tweepy_client.get_user_id_by_name(\"sumthineles\")\n",
    "    result.extend(tweepy_client.get_timeline(id, max_results=5))\n",
    "tweepy_client.save(result, \"timeline.csv\")\n"
   ]
  }
 ],
 "metadata": {
  "interpreter": {
   "hash": "57ffbcbab7a545a59cd0c3b3c0fc4ed8076bf5857f7d1288fd91af7c91b004cc"
  },
  "kernelspec": {
   "display_name": "Python 3.8.2 ('boram-6_YsJpOq')",
   "language": "python",
   "name": "python3"
  },
  "language_info": {
   "codemirror_mode": {
    "name": "ipython",
    "version": 3
   },
   "file_extension": ".py",
   "mimetype": "text/x-python",
   "name": "python",
   "nbconvert_exporter": "python",
   "pygments_lexer": "ipython3",
   "version": "3.8.2"
  },
  "orig_nbformat": 4
 },
 "nbformat": 4,
 "nbformat_minor": 2
}
