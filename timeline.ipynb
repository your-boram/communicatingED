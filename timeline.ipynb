{
 "cells": [
  {
   "cell_type": "code",
   "execution_count": 1,
   "metadata": {},
   "outputs": [],
   "source": [
    "import time\n",
    "\n",
    "import pandas as pd\n",
    "\n",
    "from twitter import Twitter\n",
    "\n",
    "twitter = Twitter(\"edtwt\", \"2022-01-01\", \"2022-04-14\")"
   ]
  },
  {
   "cell_type": "code",
   "execution_count": 2,
   "metadata": {},
   "outputs": [
    {
     "name": "stdout",
     "output_type": "stream",
     "text": [
      "Collected 631 tweets\r"
     ]
    }
   ],
   "source": [
    "twitter.get_timeline(\"https://twitter.com/sumthineles\")"
   ]
  }
 ],
 "metadata": {
  "interpreter": {
   "hash": "57ffbcbab7a545a59cd0c3b3c0fc4ed8076bf5857f7d1288fd91af7c91b004cc"
  },
  "kernelspec": {
   "display_name": "Python 3.8.2 ('boram-6_YsJpOq')",
   "language": "python",
   "name": "python3"
  },
  "language_info": {
   "codemirror_mode": {
    "name": "ipython",
    "version": 3
   },
   "file_extension": ".py",
   "mimetype": "text/x-python",
   "name": "python",
   "nbconvert_exporter": "python",
   "pygments_lexer": "ipython3",
   "version": "3.8.2"
  },
  "orig_nbformat": 4
 },
 "nbformat": 4,
 "nbformat_minor": 2
}
